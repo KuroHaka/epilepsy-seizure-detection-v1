{
 "cells": [
  {
   "cell_type": "code",
   "execution_count": 1,
   "metadata": {},
   "outputs": [],
   "source": [
    "from sklearn.ensemble import RandomForestClassifier\n",
    "from sklearn.svm import SVC\n",
    "from sklearn.neighbors import KNeighborsClassifier\n",
    "from sklearn.model_selection import train_test_split\n",
    "from sklearn.metrics import confusion_matrix\n",
    "import pandas as pd\n",
    "import pickle"
   ]
  },
  {
   "cell_type": "code",
   "execution_count": 2,
   "metadata": {},
   "outputs": [],
   "source": [
    "# Load the data from a pickle file\n",
    "with open('data/test.pickle', 'rb') as f:\n",
    "    test = pickle.load(f)\n",
    "\n",
    "# Load the data from a pickle file\n",
    "with open('data/train.pickle', 'rb') as f:\n",
    "    train = pickle.load(f)"
   ]
  },
  {
   "cell_type": "code",
   "execution_count": 3,
   "metadata": {},
   "outputs": [],
   "source": [
    "train = train.dropna()\n",
    "y_train = train['seizure']\n",
    "X_train = train.drop(columns = 'seizure')\n",
    "\n",
    "test = test.dropna()\n",
    "y_test = test['seizure']\n",
    "X_test = test.drop(columns = 'seizure')"
   ]
  },
  {
   "cell_type": "code",
   "execution_count": 4,
   "metadata": {},
   "outputs": [],
   "source": [
    "def metrics(y_test,y_pred):\n",
    "    tn, fp, fn, tp = confusion_matrix(y_test, y_pred).ravel()\n",
    "    dict = {\"metric\":['sensitivity','specificity','accuracy'], 'precision':[f'{(tp/(tp+fn))*100:.3f}%', f'{(tn/(fp+tn))*100:.3f}%', f'{((tp+tn)/(tn+fp+fn+tp))*100:.3f}%']}\n",
    "    return pd.DataFrame.from_dict(dict).style.hide(axis=\"index\")"
   ]
  },
  {
   "cell_type": "markdown",
   "metadata": {},
   "source": [
    "# ML"
   ]
  },
  {
   "cell_type": "markdown",
   "metadata": {},
   "source": [
    "## K Neighbors"
   ]
  },
  {
   "cell_type": "code",
   "execution_count": 66,
   "metadata": {},
   "outputs": [],
   "source": [
    "clf=KNeighborsClassifier(n_neighbors=60, n_jobs=-1)\n",
    "clf.fit(X_train, y_train)\n",
    "y_pred = clf.predict(X_test)"
   ]
  },
  {
   "cell_type": "code",
   "execution_count": 67,
   "metadata": {},
   "outputs": [
    {
     "data": {
      "text/html": [
       "<style type=\"text/css\">\n",
       "</style>\n",
       "<table id=\"T_0bf5c\">\n",
       "  <thead>\n",
       "    <tr>\n",
       "      <th id=\"T_0bf5c_level0_col0\" class=\"col_heading level0 col0\" >metric</th>\n",
       "      <th id=\"T_0bf5c_level0_col1\" class=\"col_heading level0 col1\" >precision</th>\n",
       "    </tr>\n",
       "  </thead>\n",
       "  <tbody>\n",
       "    <tr>\n",
       "      <td id=\"T_0bf5c_row0_col0\" class=\"data row0 col0\" >sensitivity</td>\n",
       "      <td id=\"T_0bf5c_row0_col1\" class=\"data row0 col1\" >88.337%</td>\n",
       "    </tr>\n",
       "    <tr>\n",
       "      <td id=\"T_0bf5c_row1_col0\" class=\"data row1 col0\" >specificity</td>\n",
       "      <td id=\"T_0bf5c_row1_col1\" class=\"data row1 col1\" >89.056%</td>\n",
       "    </tr>\n",
       "    <tr>\n",
       "      <td id=\"T_0bf5c_row2_col0\" class=\"data row2 col0\" >accuracy</td>\n",
       "      <td id=\"T_0bf5c_row2_col1\" class=\"data row2 col1\" >88.698%</td>\n",
       "    </tr>\n",
       "  </tbody>\n",
       "</table>\n"
      ],
      "text/plain": [
       "<pandas.io.formats.style.Styler at 0x1a8113dba00>"
      ]
     },
     "execution_count": 67,
     "metadata": {},
     "output_type": "execute_result"
    }
   ],
   "source": [
    "metrics(y_test, y_pred)"
   ]
  },
  {
   "cell_type": "markdown",
   "metadata": {},
   "source": [
    "## SVG"
   ]
  },
  {
   "cell_type": "code",
   "execution_count": 31,
   "metadata": {},
   "outputs": [],
   "source": [
    "clf=SVC(kernel='linear')\n",
    "clf.fit(X_train, y_train)\n",
    "y_pred = clf.predict(X_test)"
   ]
  },
  {
   "cell_type": "code",
   "execution_count": 32,
   "metadata": {},
   "outputs": [
    {
     "data": {
      "text/html": [
       "<style type=\"text/css\">\n",
       "</style>\n",
       "<table id=\"T_b5c63\">\n",
       "  <thead>\n",
       "    <tr>\n",
       "      <th id=\"T_b5c63_level0_col0\" class=\"col_heading level0 col0\" >metric</th>\n",
       "      <th id=\"T_b5c63_level0_col1\" class=\"col_heading level0 col1\" >precision</th>\n",
       "    </tr>\n",
       "  </thead>\n",
       "  <tbody>\n",
       "    <tr>\n",
       "      <td id=\"T_b5c63_row0_col0\" class=\"data row0 col0\" >sensitivity</td>\n",
       "      <td id=\"T_b5c63_row0_col1\" class=\"data row0 col1\" >86.393%</td>\n",
       "    </tr>\n",
       "    <tr>\n",
       "      <td id=\"T_b5c63_row1_col0\" class=\"data row1 col0\" >specificity</td>\n",
       "      <td id=\"T_b5c63_row1_col1\" class=\"data row1 col1\" >87.768%</td>\n",
       "    </tr>\n",
       "    <tr>\n",
       "      <td id=\"T_b5c63_row2_col0\" class=\"data row2 col0\" >accuracy</td>\n",
       "      <td id=\"T_b5c63_row2_col1\" class=\"data row2 col1\" >87.083%</td>\n",
       "    </tr>\n",
       "  </tbody>\n",
       "</table>\n"
      ],
      "text/plain": [
       "<pandas.io.formats.style.Styler at 0x1a817ef4760>"
      ]
     },
     "execution_count": 32,
     "metadata": {},
     "output_type": "execute_result"
    }
   ],
   "source": [
    "metrics(y_test, y_pred)"
   ]
  },
  {
   "cell_type": "markdown",
   "metadata": {},
   "source": [
    "## Random forest"
   ]
  },
  {
   "cell_type": "code",
   "execution_count": null,
   "metadata": {},
   "outputs": [
    {
     "name": "stdout",
     "output_type": "stream",
     "text": [
      "sensitivity: 86.825%\n",
      "specificity: 91.845%\n",
      "accuracy: 89.343%\n"
     ]
    }
   ],
   "source": [
    "tn, fp, fn, tp = confusion_matrix(y_test, y_pred).ravel()\n",
    "print(f'sensitivity: {(tp/(tp+fn))*100:.3f}%')\n",
    "print(f'specificity: {(tn/(fp+tn))*100:.3f}%')\n",
    "print(f'accuracy: {((tp+tn)/(tn+fp+fn+tp))*100:.3f}%')"
   ]
  },
  {
   "cell_type": "code",
   "execution_count": 4,
   "metadata": {},
   "outputs": [],
   "source": [
    "clf=RandomForestClassifier(n_estimators=1000)\n",
    "clf.fit(X_train, y_train)\n",
    "y_pred = clf.predict(X_test)"
   ]
  },
  {
   "cell_type": "code",
   "execution_count": 28,
   "metadata": {},
   "outputs": [
    {
     "data": {
      "text/html": [
       "<style type=\"text/css\">\n",
       "</style>\n",
       "<table id=\"T_e81dd\">\n",
       "  <thead>\n",
       "    <tr>\n",
       "      <th id=\"T_e81dd_level0_col0\" class=\"col_heading level0 col0\" >metric</th>\n",
       "      <th id=\"T_e81dd_level0_col1\" class=\"col_heading level0 col1\" >precision</th>\n",
       "    </tr>\n",
       "  </thead>\n",
       "  <tbody>\n",
       "    <tr>\n",
       "      <td id=\"T_e81dd_row0_col0\" class=\"data row0 col0\" >sensitivity</td>\n",
       "      <td id=\"T_e81dd_row0_col1\" class=\"data row0 col1\" >86.825%</td>\n",
       "    </tr>\n",
       "    <tr>\n",
       "      <td id=\"T_e81dd_row1_col0\" class=\"data row1 col0\" >specificity</td>\n",
       "      <td id=\"T_e81dd_row1_col1\" class=\"data row1 col1\" >91.845%</td>\n",
       "    </tr>\n",
       "    <tr>\n",
       "      <td id=\"T_e81dd_row2_col0\" class=\"data row2 col0\" >accuracy</td>\n",
       "      <td id=\"T_e81dd_row2_col1\" class=\"data row2 col1\" >89.343%</td>\n",
       "    </tr>\n",
       "  </tbody>\n",
       "</table>\n"
      ],
      "text/plain": [
       "<pandas.io.formats.style.Styler at 0x1a817ef4b80>"
      ]
     },
     "execution_count": 28,
     "metadata": {},
     "output_type": "execute_result"
    }
   ],
   "source": [
    "metrics(y_test, y_pred)"
   ]
  },
  {
   "cell_type": "code",
   "execution_count": 8,
   "metadata": {},
   "outputs": [
    {
     "name": "stdout",
     "output_type": "stream",
     "text": [
      "sensitivity: 86.825%\n",
      "specificity: 91.845%\n",
      "accuracy: 89.343%\n"
     ]
    }
   ],
   "source": [
    "tn, fp, fn, tp = confusion_matrix(y_test, y_pred).ravel()\n",
    "print(f'sensitivity: {(tp/(tp+fn))*100:.3f}%')\n",
    "print(f'specificity: {(tn/(fp+tn))*100:.3f}%')\n",
    "print(f'accuracy: {((tp+tn)/(tn+fp+fn+tp))*100:.3f}%')"
   ]
  },
  {
   "cell_type": "markdown",
   "metadata": {},
   "source": [
    "# DL"
   ]
  },
  {
   "cell_type": "markdown",
   "metadata": {},
   "source": [
    "## FF Neural Network"
   ]
  },
  {
   "cell_type": "code",
   "execution_count": 4,
   "metadata": {},
   "outputs": [
    {
     "name": "stderr",
     "output_type": "stream",
     "text": [
      "c:\\Users\\Eugene Chen\\.conda\\envs\\mne\\lib\\site-packages\\tqdm\\auto.py:22: TqdmWarning: IProgress not found. Please update jupyter and ipywidgets. See https://ipywidgets.readthedocs.io/en/stable/user_install.html\n",
      "  from .autonotebook import tqdm as notebook_tqdm\n"
     ]
    }
   ],
   "source": [
    "import numpy as np\n",
    "import torch\n",
    "import torch.nn as nn\n",
    "import torch.nn.functional as F\n",
    "import matplotlib.pyplot as plt\n",
    "from IPython.display import clear_output"
   ]
  },
  {
   "cell_type": "markdown",
   "metadata": {},
   "source": [
    "### parse dataset to tensors"
   ]
  },
  {
   "cell_type": "code",
   "execution_count": 5,
   "metadata": {},
   "outputs": [],
   "source": [
    "train = train.dropna()\n",
    "y_train = train['seizure']\n",
    "X_train = train.drop(columns = 'seizure')\n",
    "\n",
    "test = test.dropna()\n",
    "y_test = test['seizure']\n",
    "X_test = test.drop(columns = 'seizure')"
   ]
  },
  {
   "cell_type": "markdown",
   "metadata": {},
   "source": [
    "#### data loader"
   ]
  },
  {
   "cell_type": "code",
   "execution_count": 6,
   "metadata": {},
   "outputs": [],
   "source": [
    "class SeizureData(torch.utils.data.Dataset):\n",
    "    def __init__(self, x_val, y_val):\n",
    "\n",
    "        self.y_data = torch.tensor(y_val.values.astype(np.float32), requires_grad=False)\n",
    "        self.x_data = torch.tensor(x_val.values.astype(np.float32), requires_grad=True)\n",
    "        self.n_samples = self.x_data.shape[0]\n",
    "\n",
    "    # support indexing such that dataset[i] can be used to get i-th sample\n",
    "    def __getitem__(self, index):\n",
    "        return self.x_data[index], self.y_data[index]\n",
    "\n",
    "    # we can call len(dataset) to return the size\n",
    "    def __len__(self):\n",
    "        return self.n_samples\n"
   ]
  },
  {
   "cell_type": "code",
   "execution_count": 7,
   "metadata": {},
   "outputs": [],
   "source": [
    "dataset = SeizureData(X_train, y_train)\n",
    "train_loader = torch.utils.data.DataLoader(dataset=dataset,\n",
    "                          batch_size=50,\n",
    "                          shuffle=True,\n",
    "                          drop_last=True)\n",
    "dataset = SeizureData(X_test, y_test)\n",
    "test_loader = torch.utils.data.DataLoader(dataset=dataset,\n",
    "                          batch_size=50,\n",
    "                          shuffle=True,\n",
    "                          drop_last=True)"
   ]
  },
  {
   "cell_type": "markdown",
   "metadata": {},
   "source": [
    "### Model"
   ]
  },
  {
   "cell_type": "code",
   "execution_count": 36,
   "metadata": {},
   "outputs": [
    {
     "name": "stdout",
     "output_type": "stream",
     "text": [
      "FFNN(\n",
      "  (lin1): Linear(in_features=153, out_features=64, bias=True)\n",
      "  (norm1): BatchNorm1d(64, eps=1e-05, momentum=0.1, affine=True, track_running_stats=True)\n",
      "  (lrelu): LeakyReLU(negative_slope=0.01)\n",
      "  (drop): Dropout(p=0.2, inplace=False)\n",
      "  (lin2): Linear(in_features=64, out_features=16, bias=True)\n",
      "  (norm2): BatchNorm1d(16, eps=1e-05, momentum=0.1, affine=True, track_running_stats=True)\n",
      "  (lout): Linear(in_features=16, out_features=1, bias=True)\n",
      ")\n"
     ]
    }
   ],
   "source": [
    "input_size = X_train.shape[1]\n",
    "output_size = 1\n",
    "\n",
    "class FFNN(nn.Module):\n",
    "    def __init__(self, input_dim, output_dim):\n",
    "        super(FFNN, self).__init__()\n",
    "        # define layers\n",
    "        self.lin1 = nn.Linear(input_dim, 64)\n",
    "        self.norm1 = nn.BatchNorm1d(64)\n",
    "        self.lrelu = nn.LeakyReLU()\n",
    "        self.drop = nn.Dropout(0.3)\n",
    "\n",
    "        self.lin2 = nn.Linear(64, 16)\n",
    "        self.norm2 = nn.BatchNorm1d(16)\n",
    "        self.lout = nn.Linear(16, output_dim)\n",
    "\n",
    "    def forward(self, x):\n",
    "        y_pred = self.lin1(x)\n",
    "        y_pred = self.norm1(y_pred)\n",
    "        y_pred = self.lrelu(y_pred)\n",
    "        y_pred = self.drop(y_pred)\n",
    "\n",
    "        y_pred = self.lin2(y_pred)\n",
    "        y_pred = self.norm2(y_pred)\n",
    "        y_pred = self.lrelu(y_pred)\n",
    "        \n",
    "        y_pred = self.lout(y_pred)\n",
    "        return y_pred.squeeze()\n",
    "\n",
    "model = FFNN(input_size, output_size)\n",
    "print(model)"
   ]
  },
  {
   "cell_type": "markdown",
   "metadata": {},
   "source": [
    "#### loss and optimization"
   ]
  },
  {
   "cell_type": "code",
   "execution_count": 37,
   "metadata": {},
   "outputs": [],
   "source": [
    "learning_rate = 0.0001\n",
    "criterion = nn.CrossEntropyLoss()\n",
    "optimizer = torch.optim.Adam(model.parameters(), lr=learning_rate)"
   ]
  },
  {
   "cell_type": "code",
   "execution_count": 27,
   "metadata": {},
   "outputs": [],
   "source": [
    "def accuracy(ys, ts):\n",
    "    ys = ys > 0.5\n",
    "    correct_prediction = torch.eq(ys, ts)\n",
    "    m = torch.mean(correct_prediction.float())\n",
    "    return m"
   ]
  },
  {
   "cell_type": "markdown",
   "metadata": {},
   "source": [
    "#### training"
   ]
  },
  {
   "cell_type": "code",
   "execution_count": 38,
   "metadata": {},
   "outputs": [
    {
     "ename": "KeyboardInterrupt",
     "evalue": "",
     "output_type": "error",
     "traceback": [
      "\u001b[1;31m---------------------------------------------------------------------------\u001b[0m",
      "\u001b[1;31mKeyboardInterrupt\u001b[0m                         Traceback (most recent call last)",
      "Cell \u001b[1;32mIn [38], line 37\u001b[0m\n\u001b[0;32m     35\u001b[0m     \u001b[39m#backward \u001b[39;00m\n\u001b[0;32m     36\u001b[0m     optimizer\u001b[39m.\u001b[39mzero_grad()\n\u001b[1;32m---> 37\u001b[0m     loss\u001b[39m.\u001b[39mbackward()\n\u001b[0;32m     38\u001b[0m     optimizer\u001b[39m.\u001b[39mstep()\n\u001b[0;32m     41\u001b[0m fig \u001b[39m=\u001b[39m plt\u001b[39m.\u001b[39mfigure(figsize\u001b[39m=\u001b[39m(\u001b[39m12\u001b[39m,\u001b[39m4\u001b[39m))\n",
      "File \u001b[1;32mc:\\Users\\Eugene Chen\\.conda\\envs\\mne\\lib\\site-packages\\torch\\_tensor.py:396\u001b[0m, in \u001b[0;36mTensor.backward\u001b[1;34m(self, gradient, retain_graph, create_graph, inputs)\u001b[0m\n\u001b[0;32m    387\u001b[0m \u001b[39mif\u001b[39;00m has_torch_function_unary(\u001b[39mself\u001b[39m):\n\u001b[0;32m    388\u001b[0m     \u001b[39mreturn\u001b[39;00m handle_torch_function(\n\u001b[0;32m    389\u001b[0m         Tensor\u001b[39m.\u001b[39mbackward,\n\u001b[0;32m    390\u001b[0m         (\u001b[39mself\u001b[39m,),\n\u001b[1;32m   (...)\u001b[0m\n\u001b[0;32m    394\u001b[0m         create_graph\u001b[39m=\u001b[39mcreate_graph,\n\u001b[0;32m    395\u001b[0m         inputs\u001b[39m=\u001b[39minputs)\n\u001b[1;32m--> 396\u001b[0m torch\u001b[39m.\u001b[39;49mautograd\u001b[39m.\u001b[39;49mbackward(\u001b[39mself\u001b[39;49m, gradient, retain_graph, create_graph, inputs\u001b[39m=\u001b[39;49minputs)\n",
      "File \u001b[1;32mc:\\Users\\Eugene Chen\\.conda\\envs\\mne\\lib\\site-packages\\torch\\autograd\\__init__.py:173\u001b[0m, in \u001b[0;36mbackward\u001b[1;34m(tensors, grad_tensors, retain_graph, create_graph, grad_variables, inputs)\u001b[0m\n\u001b[0;32m    168\u001b[0m     retain_graph \u001b[39m=\u001b[39m create_graph\n\u001b[0;32m    170\u001b[0m \u001b[39m# The reason we repeat same the comment below is that\u001b[39;00m\n\u001b[0;32m    171\u001b[0m \u001b[39m# some Python versions print out the first line of a multi-line function\u001b[39;00m\n\u001b[0;32m    172\u001b[0m \u001b[39m# calls in the traceback and some print out the last line\u001b[39;00m\n\u001b[1;32m--> 173\u001b[0m Variable\u001b[39m.\u001b[39;49m_execution_engine\u001b[39m.\u001b[39;49mrun_backward(  \u001b[39m# Calls into the C++ engine to run the backward pass\u001b[39;49;00m\n\u001b[0;32m    174\u001b[0m     tensors, grad_tensors_, retain_graph, create_graph, inputs,\n\u001b[0;32m    175\u001b[0m     allow_unreachable\u001b[39m=\u001b[39;49m\u001b[39mTrue\u001b[39;49;00m, accumulate_grad\u001b[39m=\u001b[39;49m\u001b[39mTrue\u001b[39;49;00m)\n",
      "\u001b[1;31mKeyboardInterrupt\u001b[0m: "
     ]
    }
   ],
   "source": [
    "num_epochs = 30\n",
    "num_total_steps = len(train_loader)\n",
    "\n",
    "# Initialize lists for training and validation\n",
    "train_iter, valid_iter = [], []\n",
    "train_loss, train_accs = [], []\n",
    "valid_loss, valid_accs = [], []\n",
    "\n",
    "# Train the model\n",
    "iter_num = 0\n",
    "for epoch in range(num_epochs):\n",
    "\n",
    "    with torch.no_grad():\n",
    "        val_losses, val_accs, val_lengths = 0, 0, 0\n",
    "        for valid_input,valid_label in test_loader:\n",
    "            outputs = model(valid_input)\n",
    "            predicted = (outputs>0.5).float()\n",
    "            val_losses += criterion(outputs, valid_label)\n",
    "            val_accs += ((predicted == valid_label).sum().item())/valid_label.size(0)\n",
    "            val_lengths += 1\n",
    "        valid_accs.append(val_accs / val_lengths)\n",
    "        valid_loss.append(val_losses / val_lengths)\n",
    "        valid_iter.append(iter_num)\n",
    "\n",
    "    for i, (input,label) in enumerate(train_loader):\n",
    "        \n",
    "        #forward\n",
    "        output = model(input)\n",
    "        loss = criterion(output, label)\n",
    "        #plot\n",
    "        train_accs.append(float(accuracy(output, label).data.numpy()))\n",
    "        train_loss.append(float(loss.data.numpy()))\n",
    "        train_iter.append(iter_num)\n",
    "        iter_num += 1\n",
    "        #backward \n",
    "        optimizer.zero_grad()\n",
    "        loss.backward()\n",
    "        optimizer.step()\n",
    "\n",
    "    \n",
    "    fig = plt.figure(figsize=(12,4))\n",
    "    plt.subplot(1, 2, 1)\n",
    "    plt.plot(train_iter, train_loss, label='train_loss')\n",
    "    plt.plot(valid_iter, valid_loss, label='valid_loss')\n",
    "    plt.legend()\n",
    "\n",
    "    plt.subplot(1, 2, 2)\n",
    "    plt.plot(train_iter, train_accs, label='train_accs')\n",
    "    plt.plot(valid_iter, valid_accs, label='valid_accs')\n",
    "    plt.legend()\n",
    "    plt.show()\n",
    "    print(f\"Train, it: {epoch} loss: {train_loss[-1]:.2f} accuracy: {train_accs[-1]:.2f}\")\n",
    "    print(f\"Valid, it: {epoch} loss: {valid_loss[-1]:.2f} accuracy: {valid_accs[-1]:.2f}\")\n",
    "    clear_output(wait=True)\n"
   ]
  },
  {
   "cell_type": "markdown",
   "metadata": {},
   "source": [
    "#### testing"
   ]
  },
  {
   "cell_type": "code",
   "execution_count": 104,
   "metadata": {},
   "outputs": [
    {
     "name": "stdout",
     "output_type": "stream",
     "text": [
      "Accuracy of the network on the 122.23466491699219 test is : 78.55555555555556 %\n"
     ]
    }
   ],
   "source": [
    "# Test the model\n",
    "with torch.no_grad():\n",
    "    n_correct = 0\n",
    "    n_samples = 0\n",
    "    for input, labels in test_loader:\n",
    "        outputs = model(input)\n",
    "        loss = criterion(outputs, labels)\n",
    "        # max returns (value ,index)\n",
    "        predicted = (outputs>0.5).float()\n",
    "        n_samples += labels.size(0)\n",
    "        n_correct += (predicted == labels).sum().item()\n",
    "    acc = 100.0 * n_correct / n_samples\n",
    "    print(f'Accuracy of the network on the {loss} test is : {acc} %')"
   ]
  },
  {
   "cell_type": "code",
   "execution_count": 49,
   "metadata": {},
   "outputs": [
    {
     "data": {
      "text/html": [
       "<style type=\"text/css\">\n",
       "</style>\n",
       "<table id=\"T_6dac7\">\n",
       "  <thead>\n",
       "    <tr>\n",
       "      <th id=\"T_6dac7_level0_col0\" class=\"col_heading level0 col0\" >metric</th>\n",
       "      <th id=\"T_6dac7_level0_col1\" class=\"col_heading level0 col1\" >precision</th>\n",
       "    </tr>\n",
       "  </thead>\n",
       "  <tbody>\n",
       "    <tr>\n",
       "      <td id=\"T_6dac7_row0_col0\" class=\"data row0 col0\" >sensitivity</td>\n",
       "      <td id=\"T_6dac7_row0_col1\" class=\"data row0 col1\" >94.118%</td>\n",
       "    </tr>\n",
       "    <tr>\n",
       "      <td id=\"T_6dac7_row1_col0\" class=\"data row1 col0\" >specificity</td>\n",
       "      <td id=\"T_6dac7_row1_col1\" class=\"data row1 col1\" >68.062%</td>\n",
       "    </tr>\n",
       "    <tr>\n",
       "      <td id=\"T_6dac7_row2_col0\" class=\"data row2 col0\" >accuracy</td>\n",
       "      <td id=\"T_6dac7_row2_col1\" class=\"data row2 col1\" >75.444%</td>\n",
       "    </tr>\n",
       "  </tbody>\n",
       "</table>\n"
      ],
      "text/plain": [
       "<pandas.io.formats.style.Styler at 0x1840b8260a0>"
      ]
     },
     "execution_count": 49,
     "metadata": {},
     "output_type": "execute_result"
    }
   ],
   "source": [
    "# Test the model\n",
    "with torch.no_grad():\n",
    "    all_predicted = torch.tensor([])\n",
    "    all_label = torch.tensor([])\n",
    "    for input, labels in test_loader:\n",
    "        outputs = model(input)\n",
    "        # max returns (value ,index)\n",
    "        all_predicted = torch.cat([all_predicted, (outputs>0.5).float()])\n",
    "        all_label = torch.cat([all_label, labels])\n",
    "metrics(all_predicted, all_label)\n",
    "    "
   ]
  },
  {
   "cell_type": "markdown",
   "metadata": {},
   "source": [
    "### accuracy"
   ]
  },
  {
   "cell_type": "code",
   "execution_count": 30,
   "metadata": {},
   "outputs": [
    {
     "data": {
      "image/png": "[encoded data removed]",
      "text/plain": [
       "<Figure size 640x480 with 1 Axes>"
      ]
     },
     "metadata": {},
     "output_type": "display_data"
    },
    {
     "data": {
      "text/html": [
       "<style type=\"text/css\">\n",
       "</style>\n",
       "<table id=\"T_df469\">\n",
       "  <thead>\n",
       "    <tr>\n",
       "      <th id=\"T_df469_level0_col0\" class=\"col_heading level0 col0\" >metric</th>\n",
       "      <th id=\"T_df469_level0_col1\" class=\"col_heading level0 col1\" >precision</th>\n",
       "    </tr>\n",
       "  </thead>\n",
       "  <tbody>\n",
       "    <tr>\n",
       "      <td id=\"T_df469_row0_col0\" class=\"data row0 col0\" >sensitivity</td>\n",
       "      <td id=\"T_df469_row0_col1\" class=\"data row0 col1\" >100.000%</td>\n",
       "    </tr>\n",
       "    <tr>\n",
       "      <td id=\"T_df469_row1_col0\" class=\"data row1 col0\" >specificity</td>\n",
       "      <td id=\"T_df469_row1_col1\" class=\"data row1 col1\" >48.980%</td>\n",
       "    </tr>\n",
       "    <tr>\n",
       "      <td id=\"T_df469_row2_col0\" class=\"data row2 col0\" >accuracy</td>\n",
       "      <td id=\"T_df469_row2_col1\" class=\"data row2 col1\" >50.000%</td>\n",
       "    </tr>\n",
       "  </tbody>\n",
       "</table>\n"
      ],
      "text/plain": [
       "<pandas.io.formats.style.Styler at 0x1f427483dc0>"
      ]
     },
     "execution_count": 30,
     "metadata": {},
     "output_type": "execute_result"
    }
   ],
   "source": [
    "step = 0.1\n",
    "threshold = np.arange(0.2, 0.8+step, step)\n",
    "data = np.array([])\n",
    "sensitivity = []\n",
    "specificity = []\n",
    "accuracy = []\n",
    "for t in threshold:\n",
    "    with torch.no_grad():\n",
    "        for input, labels in test_loader:\n",
    "            ttn, tfp, tfn, ttp = 0,0,0,0\n",
    "            outputs = model(input)\n",
    "            data = np.append(data, output)\n",
    "            predicted = (outputs>t).float()\n",
    "            tn, fp, fn, tp = confusion_matrix(predicted, labels, labels=[0, 1] ).ravel()\n",
    "            ttn += tn\n",
    "            tfp += fp\n",
    "            tfn += fn\n",
    "            ttp += tp\n",
    "        if (ttp+tfn) == 0:\n",
    "            sensitivity.append(0)\n",
    "        else:\n",
    "            sensitivity.append((ttp/(ttp+tfn))*100)\n",
    "        if tfp+ttn == 0:\n",
    "            specificity.append(0)\n",
    "        else:\n",
    "            specificity.append((ttn/(tfp+ttn))*100)\n",
    "        accuracy.append(((ttp+ttn)/(ttn+tfp+tfn+ttp))*100)\n",
    "\n",
    "plt.plot(threshold, sensitivity, label='sensitivity')\n",
    "plt.plot(threshold, accuracy, label='accuracy')\n",
    "plt.plot(threshold, specificity, label='specificity')\n",
    "plt.legend()\n",
    "plt.show()\n",
    "\n",
    "dict = {\"metric\":['sensitivity','specificity','accuracy'], 'precision':[f'{(tp/(tp+fn))*100:.3f}%', f'{(tn/(fp+tn))*100:.3f}%', f'{((tp+tn)/(tn+fp+fn+tp))*100:.3f}%']}\n",
    "\n",
    "pd.DataFrame.from_dict(dict).style.hide(axis=\"index\")"
   ]
  },
  {
   "cell_type": "code",
   "execution_count": 51,
   "metadata": {},
   "outputs": [
    {
     "data": {
      "text/plain": [
       "<matplotlib.collections.PathCollection at 0x1840c262a30>"
      ]
     },
     "execution_count": 51,
     "metadata": {},
     "output_type": "execute_result"
    },
    {
     "data": {
      "image/png": "[encoded data removed]",
      "text/plain": [
       "<Figure size 640x480 with 1 Axes>"
      ]
     },
     "metadata": {},
     "output_type": "display_data"
    }
   ],
   "source": [
    "x = list(range(len(data)))\n",
    "plt.scatter(x, data)\n"
   ]
  },
  {
   "cell_type": "code",
   "execution_count": 35,
   "metadata": {},
   "outputs": [],
   "source": [
    "torch.save(model,'model07-12-2022.pt')"
   ]
  },
  {
   "cell_type": "code",
   "execution_count": 62,
   "metadata": {},
   "outputs": [],
   "source": [
    "model = torch.load('model07-12-2022.pt')"
   ]
  },
  {
   "cell_type": "code",
   "execution_count": 37,
   "metadata": {},
   "outputs": [
    {
     "data": {
      "text/plain": [
       "FFNN(\n",
       "  (lin1): Linear(in_features=153, out_features=50, bias=True)\n",
       "  (lrelu): LeakyReLU(negative_slope=0.01)\n",
       "  (lin2): Linear(in_features=50, out_features=50, bias=True)\n",
       "  (lout): Linear(in_features=50, out_features=1, bias=True)\n",
       ")"
      ]
     },
     "execution_count": 37,
     "metadata": {},
     "output_type": "execute_result"
    }
   ],
   "source": [
    "model.eval()"
   ]
  }
 ],
 "metadata": {
  "kernelspec": {
   "display_name": "mne",
   "language": "python",
   "name": "python3"
  },
  "language_info": {
   "codemirror_mode": {
    "name": "ipython",
    "version": 3
   },
   "file_extension": ".py",
   "mimetype": "text/x-python",
   "name": "python",
   "nbconvert_exporter": "python",
   "pygments_lexer": "ipython3",
   "version": "3.9.13"
  },
  "orig_nbformat": 4,
  "vscode": {
   "interpreter": {
    "hash": "7392615a69787cc1f6be4aa4f2da9b4eb392d95ed7f743e9910e69ce659e31ba"
   }
  }
 },
 "nbformat": 4,
 "nbformat_minor": 2
}
