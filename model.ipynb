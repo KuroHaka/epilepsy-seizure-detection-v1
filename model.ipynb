{
 "cells": [
  {
   "cell_type": "code",
   "execution_count": 1,
   "metadata": {},
   "outputs": [
    {
     "name": "stderr",
     "output_type": "stream",
     "text": [
      "c:\\Users\\Eugene Chen\\.conda\\envs\\mne\\lib\\site-packages\\tqdm\\auto.py:22: TqdmWarning: IProgress not found. Please update jupyter and ipywidgets. See https://ipywidgets.readthedocs.io/en/stable/user_install.html\n",
      "  from .autonotebook import tqdm as notebook_tqdm\n"
     ]
    }
   ],
   "source": [
    "import pandas as pd\n",
    "import pickle, torch\n",
    "import numpy as np\n",
    "import torch.nn as nn\n",
    "import torch.nn.functional as F\n",
    "import matplotlib.pyplot as plt\n",
    "from datetime import date\n",
    "from sklearn.ensemble import RandomForestClassifier\n",
    "from sklearn.svm import SVC\n",
    "from sklearn.neighbors import KNeighborsClassifier\n",
    "from sklearn.model_selection import train_test_split\n",
    "from sklearn.metrics import confusion_matrix\n",
    "from IPython.display import clear_output"
   ]
  },
  {
   "attachments": {},
   "cell_type": "markdown",
   "metadata": {},
   "source": [
    "### Import dataset"
   ]
  },
  {
   "cell_type": "code",
   "execution_count": 2,
   "metadata": {},
   "outputs": [],
   "source": [
    "# Load the data from a pickle file\n",
    "with open('data/test.pickle', 'rb') as f:\n",
    "    test = pickle.load(f)\n",
    "\n",
    "# Load the data from a pickle file\n",
    "with open('data/train.pickle', 'rb') as f:\n",
    "    train = pickle.load(f)"
   ]
  },
  {
   "cell_type": "code",
   "execution_count": 3,
   "metadata": {},
   "outputs": [],
   "source": [
    "train = train.dropna()\n",
    "y_train = train['seizure']\n",
    "X_train = train.drop(columns = 'seizure')\n",
    "\n",
    "test = test.dropna()\n",
    "y_test = test['seizure']\n",
    "X_test = test.drop(columns = 'seizure')"
   ]
  },
  {
   "attachments": {},
   "cell_type": "markdown",
   "metadata": {},
   "source": [
    "#### Auxiliar methods"
   ]
  },
  {
   "cell_type": "code",
   "execution_count": 41,
   "metadata": {},
   "outputs": [],
   "source": [
    "def metrics(y_test,y_pred):\n",
    "    tn, fp, fn, tp = confusion_matrix(y_test, y_pred).ravel()\n",
    "    dict = {\"metric\":['sensitivity','specificity','accuracy'], 'precision':[f'{(tp/(tp+fn))*100:.3f}%', f'{(tn/(fp+tn))*100:.3f}%', f'{((tp+tn)/(tn+fp+fn+tp))*100:.3f}%']}\n",
    "    return pd.DataFrame.from_dict(dict)"
   ]
  },
  {
   "cell_type": "code",
   "execution_count": 5,
   "metadata": {},
   "outputs": [],
   "source": [
    "def accuracy(ys, ts):\n",
    "    ys = ys > 0.5\n",
    "    correct_prediction = torch.eq(ys, ts)\n",
    "    m = torch.mean(correct_prediction.float())\n",
    "    return m"
   ]
  },
  {
   "attachments": {},
   "cell_type": "markdown",
   "metadata": {},
   "source": [
    "### K Neighbors"
   ]
  },
  {
   "cell_type": "code",
   "execution_count": 151,
   "metadata": {},
   "outputs": [
    {
     "name": "stdout",
     "output_type": "stream",
     "text": [
      "CPU times: total: 219 ms\n",
      "Wall time: 68 ms\n"
     ]
    }
   ],
   "source": [
    "%%time\n",
    "knn=KNeighborsClassifier(n_neighbors=60, n_jobs=-1)\n",
    "knn.fit(X_train.values, y_train)\n",
    "y_pred = knn.predict(X_test.values)"
   ]
  },
  {
   "cell_type": "code",
   "execution_count": 152,
   "metadata": {},
   "outputs": [
    {
     "data": {
      "text/html": [
       "<style type=\"text/css\">\n",
       "</style>\n",
       "<table id=\"T_c5b71\">\n",
       "  <thead>\n",
       "    <tr>\n",
       "      <th id=\"T_c5b71_level0_col0\" class=\"col_heading level0 col0\" >metric</th>\n",
       "      <th id=\"T_c5b71_level0_col1\" class=\"col_heading level0 col1\" >precision</th>\n",
       "    </tr>\n",
       "  </thead>\n",
       "  <tbody>\n",
       "    <tr>\n",
       "      <td id=\"T_c5b71_row0_col0\" class=\"data row0 col0\" >sensitivity</td>\n",
       "      <td id=\"T_c5b71_row0_col1\" class=\"data row0 col1\" >88.337%</td>\n",
       "    </tr>\n",
       "    <tr>\n",
       "      <td id=\"T_c5b71_row1_col0\" class=\"data row1 col0\" >specificity</td>\n",
       "      <td id=\"T_c5b71_row1_col1\" class=\"data row1 col1\" >89.056%</td>\n",
       "    </tr>\n",
       "    <tr>\n",
       "      <td id=\"T_c5b71_row2_col0\" class=\"data row2 col0\" >accuracy</td>\n",
       "      <td id=\"T_c5b71_row2_col1\" class=\"data row2 col1\" >88.698%</td>\n",
       "    </tr>\n",
       "  </tbody>\n",
       "</table>\n"
      ],
      "text/plain": [
       "<pandas.io.formats.style.Styler at 0x22235d5b850>"
      ]
     },
     "execution_count": 152,
     "metadata": {},
     "output_type": "execute_result"
    }
   ],
   "source": [
    "metrics(y_test, y_pred).style.hide(axis=\"index\")"
   ]
  },
  {
   "attachments": {},
   "cell_type": "markdown",
   "metadata": {},
   "source": [
    "### SVM"
   ]
  },
  {
   "cell_type": "code",
   "execution_count": 154,
   "metadata": {},
   "outputs": [
    {
     "name": "stdout",
     "output_type": "stream",
     "text": [
      "CPU times: total: 3.73 s\n",
      "Wall time: 3.78 s\n"
     ]
    }
   ],
   "source": [
    "%%time\n",
    "svm=SVC(kernel='linear')\n",
    "svm.fit(X_train.values, y_train)\n",
    "y_pred = svm.predict(X_test.values)"
   ]
  },
  {
   "cell_type": "code",
   "execution_count": 155,
   "metadata": {},
   "outputs": [
    {
     "data": {
      "text/html": [
       "<style type=\"text/css\">\n",
       "</style>\n",
       "<table id=\"T_a12b1\">\n",
       "  <thead>\n",
       "    <tr>\n",
       "      <th id=\"T_a12b1_level0_col0\" class=\"col_heading level0 col0\" >metric</th>\n",
       "      <th id=\"T_a12b1_level0_col1\" class=\"col_heading level0 col1\" >precision</th>\n",
       "    </tr>\n",
       "  </thead>\n",
       "  <tbody>\n",
       "    <tr>\n",
       "      <td id=\"T_a12b1_row0_col0\" class=\"data row0 col0\" >sensitivity</td>\n",
       "      <td id=\"T_a12b1_row0_col1\" class=\"data row0 col1\" >86.393%</td>\n",
       "    </tr>\n",
       "    <tr>\n",
       "      <td id=\"T_a12b1_row1_col0\" class=\"data row1 col0\" >specificity</td>\n",
       "      <td id=\"T_a12b1_row1_col1\" class=\"data row1 col1\" >87.768%</td>\n",
       "    </tr>\n",
       "    <tr>\n",
       "      <td id=\"T_a12b1_row2_col0\" class=\"data row2 col0\" >accuracy</td>\n",
       "      <td id=\"T_a12b1_row2_col1\" class=\"data row2 col1\" >87.083%</td>\n",
       "    </tr>\n",
       "  </tbody>\n",
       "</table>\n"
      ],
      "text/plain": [
       "<pandas.io.formats.style.Styler at 0x222367ad4f0>"
      ]
     },
     "execution_count": 155,
     "metadata": {},
     "output_type": "execute_result"
    }
   ],
   "source": [
    "metrics(y_test, y_pred).style.hide(axis=\"index\")"
   ]
  },
  {
   "attachments": {},
   "cell_type": "markdown",
   "metadata": {},
   "source": [
    "### Random forest"
   ]
  },
  {
   "cell_type": "code",
   "execution_count": 156,
   "metadata": {},
   "outputs": [
    {
     "name": "stdout",
     "output_type": "stream",
     "text": [
      "CPU times: total: 3.45 s\n",
      "Wall time: 3.48 s\n"
     ]
    }
   ],
   "source": [
    "%%time\n",
    "rf=RandomForestClassifier(n_estimators=100)\n",
    "rf.fit(X_train.values, y_train)\n",
    "y_pred = rf.predict(X_test.values)"
   ]
  },
  {
   "cell_type": "code",
   "execution_count": 157,
   "metadata": {},
   "outputs": [
    {
     "data": {
      "text/html": [
       "<style type=\"text/css\">\n",
       "</style>\n",
       "<table id=\"T_e07c5\">\n",
       "  <thead>\n",
       "    <tr>\n",
       "      <th id=\"T_e07c5_level0_col0\" class=\"col_heading level0 col0\" >metric</th>\n",
       "      <th id=\"T_e07c5_level0_col1\" class=\"col_heading level0 col1\" >precision</th>\n",
       "    </tr>\n",
       "  </thead>\n",
       "  <tbody>\n",
       "    <tr>\n",
       "      <td id=\"T_e07c5_row0_col0\" class=\"data row0 col0\" >sensitivity</td>\n",
       "      <td id=\"T_e07c5_row0_col1\" class=\"data row0 col1\" >87.257%</td>\n",
       "    </tr>\n",
       "    <tr>\n",
       "      <td id=\"T_e07c5_row1_col0\" class=\"data row1 col0\" >specificity</td>\n",
       "      <td id=\"T_e07c5_row1_col1\" class=\"data row1 col1\" >91.416%</td>\n",
       "    </tr>\n",
       "    <tr>\n",
       "      <td id=\"T_e07c5_row2_col0\" class=\"data row2 col0\" >accuracy</td>\n",
       "      <td id=\"T_e07c5_row2_col1\" class=\"data row2 col1\" >89.343%</td>\n",
       "    </tr>\n",
       "  </tbody>\n",
       "</table>\n"
      ],
      "text/plain": [
       "<pandas.io.formats.style.Styler at 0x222366af6d0>"
      ]
     },
     "execution_count": 157,
     "metadata": {},
     "output_type": "execute_result"
    }
   ],
   "source": [
    "metrics(y_test, y_pred).style.hide(axis=\"index\")"
   ]
  },
  {
   "attachments": {},
   "cell_type": "markdown",
   "metadata": {},
   "source": [
    "### FF Neural Network"
   ]
  },
  {
   "attachments": {},
   "cell_type": "markdown",
   "metadata": {},
   "source": [
    "#### Dataset to tensors"
   ]
  },
  {
   "cell_type": "code",
   "execution_count": 12,
   "metadata": {},
   "outputs": [],
   "source": [
    "class SeizureData(torch.utils.data.Dataset):\n",
    "    def __init__(self, x_val, y_val):\n",
    "\n",
    "        self.y_data = torch.tensor(y_val.values.astype(np.float32), requires_grad=False)\n",
    "        self.x_data = torch.tensor(x_val.values.astype(np.float32), requires_grad=True)\n",
    "        self.n_samples = self.x_data.shape[0]\n",
    "\n",
    "    # support indexing such that dataset[i] can be used to get i-th sample\n",
    "    def __getitem__(self, index):\n",
    "        return self.x_data[index], self.y_data[index]\n",
    "\n",
    "    # we can call len(dataset) to return the size\n",
    "    def __len__(self):\n",
    "        return self.n_samples\n"
   ]
  },
  {
   "cell_type": "code",
   "execution_count": 13,
   "metadata": {},
   "outputs": [],
   "source": [
    "dataset = SeizureData(X_train, y_train)\n",
    "train_loader = torch.utils.data.DataLoader(dataset=dataset,\n",
    "                          batch_size=50,\n",
    "                          shuffle=True,\n",
    "                          drop_last=True)\n",
    "dataset = SeizureData(X_test, y_test)\n",
    "test_loader = torch.utils.data.DataLoader(dataset=dataset,\n",
    "                          batch_size=50,\n",
    "                          shuffle=True,\n",
    "                          drop_last=True)"
   ]
  },
  {
   "attachments": {},
   "cell_type": "markdown",
   "metadata": {},
   "source": [
    "#### Model"
   ]
  },
  {
   "cell_type": "code",
   "execution_count": 14,
   "metadata": {},
   "outputs": [
    {
     "name": "stdout",
     "output_type": "stream",
     "text": [
      "FFNN(\n",
      "  (lin1): Linear(in_features=153, out_features=64, bias=True)\n",
      "  (norm1): BatchNorm1d(64, eps=1e-05, momentum=0.1, affine=True, track_running_stats=True)\n",
      "  (lrelu): LeakyReLU(negative_slope=0.01)\n",
      "  (drop): Dropout(p=0.3, inplace=False)\n",
      "  (lin2): Linear(in_features=64, out_features=16, bias=True)\n",
      "  (norm2): BatchNorm1d(16, eps=1e-05, momentum=0.1, affine=True, track_running_stats=True)\n",
      "  (lout): Linear(in_features=16, out_features=1, bias=True)\n",
      ")\n"
     ]
    }
   ],
   "source": [
    "input_size = X_train.shape[1]\n",
    "output_size = 1\n",
    "\n",
    "class FFNN(nn.Module):\n",
    "    def __init__(self, input_dim, output_dim):\n",
    "        super(FFNN, self).__init__()\n",
    "        # define layers\n",
    "        self.lin1 = nn.Linear(input_dim, 64)\n",
    "        self.norm1 = nn.BatchNorm1d(64)\n",
    "        self.lrelu = nn.LeakyReLU()\n",
    "        self.drop = nn.Dropout(0.3)\n",
    "\n",
    "        self.lin2 = nn.Linear(64, 16)\n",
    "        self.norm2 = nn.BatchNorm1d(16)\n",
    "        self.lout = nn.Linear(16, output_dim)\n",
    "\n",
    "    def forward(self, x):\n",
    "        y_pred = self.lin1(x)\n",
    "        y_pred = self.norm1(y_pred)\n",
    "        y_pred = self.lrelu(y_pred)\n",
    "        y_pred = self.drop(y_pred)\n",
    "\n",
    "        y_pred = self.lin2(y_pred)\n",
    "        y_pred = self.norm2(y_pred)\n",
    "        y_pred = self.lrelu(y_pred)\n",
    "        \n",
    "        y_pred = self.lout(y_pred)\n",
    "        return y_pred.squeeze()\n",
    "\n",
    "model = FFNN(input_size, output_size)\n",
    "print(model)"
   ]
  },
  {
   "attachments": {},
   "cell_type": "markdown",
   "metadata": {},
   "source": [
    "#### Loss and Optimization"
   ]
  },
  {
   "cell_type": "code",
   "execution_count": 15,
   "metadata": {},
   "outputs": [],
   "source": [
    "learning_rate = 0.0001\n",
    "criterion = nn.CrossEntropyLoss()\n",
    "optimizer = torch.optim.Adam(model.parameters(), lr=learning_rate)"
   ]
  },
  {
   "attachments": {},
   "cell_type": "markdown",
   "metadata": {},
   "source": [
    "#### Training"
   ]
  },
  {
   "cell_type": "code",
   "execution_count": 16,
   "metadata": {},
   "outputs": [
    {
     "name": "stdout",
     "output_type": "stream",
     "text": [
      "CPU times: total: 11min 46s\n",
      "Wall time: 3min 1s\n"
     ]
    }
   ],
   "source": [
    "%%time\n",
    "num_epochs = 25\n",
    "num_total_steps = len(train_loader)\n",
    "\n",
    "# Initialize lists for training and validation\n",
    "train_iter, valid_iter = [], []\n",
    "train_loss, train_accs = [], []\n",
    "valid_loss, valid_accs = [], []\n",
    "\n",
    "# Train the model\n",
    "iter_num = 0\n",
    "for epoch in range(num_epochs):\n",
    "\n",
    "    with torch.no_grad():\n",
    "        val_losses, val_accs, val_lengths = 0, 0, 0\n",
    "        for valid_input,valid_label in test_loader:\n",
    "            outputs = model(valid_input)\n",
    "            predicted = (outputs>0.5).float()\n",
    "            val_losses += criterion(outputs, valid_label)\n",
    "            val_accs += ((predicted == valid_label).sum().item())/valid_label.size(0)\n",
    "            val_lengths += 1\n",
    "        valid_accs.append(val_accs / val_lengths)\n",
    "        valid_loss.append(val_losses / val_lengths)\n",
    "        valid_iter.append(iter_num)\n",
    "\n",
    "    for i, (input,label) in enumerate(train_loader):\n",
    "        \n",
    "        #forward\n",
    "        output = model(input)\n",
    "        loss = criterion(output, label)\n",
    "        #plot\n",
    "        train_accs.append(float(accuracy(output, label).data.numpy()))\n",
    "        train_loss.append(float(loss.data.numpy()))\n",
    "        train_iter.append(iter_num)\n",
    "        iter_num += 1\n",
    "        #backward \n",
    "        optimizer.zero_grad()\n",
    "        loss.backward()\n",
    "        optimizer.step()\n",
    "\n",
    "    \n",
    "    fig = plt.figure(figsize=(12,4))\n",
    "    plt.subplot(1, 2, 1)\n",
    "    plt.plot(train_iter, train_loss, label='train_loss')\n",
    "    plt.plot(valid_iter, valid_loss, label='valid_loss')\n",
    "    plt.legend()\n",
    "\n",
    "    plt.subplot(1, 2, 2)\n",
    "    plt.plot(train_iter, train_accs, label='train_accs')\n",
    "    plt.plot(valid_iter, valid_accs, label='valid_accs')\n",
    "    plt.legend()\n",
    "    plt.show()\n",
    "    print(f\"Train, it: {epoch} loss: {train_loss[-1]:.2f} accuracy: {train_accs[-1]:.2f}\")\n",
    "    print(f\"Valid, it: {epoch} loss: {valid_loss[-1]:.2f} accuracy: {valid_accs[-1]:.2f}\")\n",
    "    clear_output(wait=True)\n"
   ]
  },
  {
   "cell_type": "code",
   "execution_count": 17,
   "metadata": {},
   "outputs": [],
   "source": [
    "torch.save(model,'Models/model'+str(date.today())+'.pt')"
   ]
  },
  {
   "attachments": {},
   "cell_type": "markdown",
   "metadata": {},
   "source": [
    "#### Testing"
   ]
  },
  {
   "cell_type": "code",
   "execution_count": 18,
   "metadata": {},
   "outputs": [
    {
     "name": "stdout",
     "output_type": "stream",
     "text": [
      "Accuracy of the network is : 84.22222222222223 %\n"
     ]
    }
   ],
   "source": [
    "# Test the model\n",
    "with torch.no_grad():\n",
    "    n_correct = 0\n",
    "    n_samples = 0\n",
    "    for input, labels in test_loader:\n",
    "        outputs = model(input)\n",
    "        # max returns (value ,index)\n",
    "        predicted = (outputs>0.5).float()\n",
    "        n_samples += labels.size(0)\n",
    "        n_correct += (predicted == labels).sum().item()\n",
    "    acc = 100.0 * n_correct / n_samples\n",
    "    print(f'Accuracy of the network is : {acc} %')"
   ]
  },
  {
   "cell_type": "code",
   "execution_count": 19,
   "metadata": {},
   "outputs": [
    {
     "data": {
      "text/html": [
       "<style type=\"text/css\">\n",
       "</style>\n",
       "<table id=\"T_97440\">\n",
       "  <thead>\n",
       "    <tr>\n",
       "      <th id=\"T_97440_level0_col0\" class=\"col_heading level0 col0\" >metric</th>\n",
       "      <th id=\"T_97440_level0_col1\" class=\"col_heading level0 col1\" >precision</th>\n",
       "    </tr>\n",
       "  </thead>\n",
       "  <tbody>\n",
       "    <tr>\n",
       "      <td id=\"T_97440_row0_col0\" class=\"data row0 col0\" >sensitivity</td>\n",
       "      <td id=\"T_97440_row0_col1\" class=\"data row0 col1\" >92.778%</td>\n",
       "    </tr>\n",
       "    <tr>\n",
       "      <td id=\"T_97440_row1_col0\" class=\"data row1 col0\" >specificity</td>\n",
       "      <td id=\"T_97440_row1_col1\" class=\"data row1 col1\" >78.889%</td>\n",
       "    </tr>\n",
       "    <tr>\n",
       "      <td id=\"T_97440_row2_col0\" class=\"data row2 col0\" >accuracy</td>\n",
       "      <td id=\"T_97440_row2_col1\" class=\"data row2 col1\" >84.444%</td>\n",
       "    </tr>\n",
       "  </tbody>\n",
       "</table>\n"
      ],
      "text/plain": [
       "<pandas.io.formats.style.Styler at 0x22220b6b400>"
      ]
     },
     "execution_count": 19,
     "metadata": {},
     "output_type": "execute_result"
    }
   ],
   "source": [
    "# Test the model\n",
    "with torch.no_grad():\n",
    "    all_predicted = torch.tensor([])\n",
    "    all_label = torch.tensor([])\n",
    "    for input, labels in test_loader:\n",
    "        outputs = model(input)\n",
    "        # max returns (value ,index)\n",
    "        all_predicted = torch.cat([all_predicted, (outputs>0.5).float()])\n",
    "        all_label = torch.cat([all_label, labels])\n",
    "metrics(all_predicted, all_label).style.hide(axis=\"index\")"
   ]
  },
  {
   "attachments": {},
   "cell_type": "markdown",
   "metadata": {},
   "source": [
    "#### Accuracy based on threshold"
   ]
  },
  {
   "cell_type": "code",
   "execution_count": 20,
   "metadata": {},
   "outputs": [
    {
     "data": {
      "image/png": "[encoded data removed]",
      "text/plain": [
       "<Figure size 640x480 with 1 Axes>"
      ]
     },
     "metadata": {},
     "output_type": "display_data"
    }
   ],
   "source": [
    "step = 0.05\n",
    "threshold = np.arange(0, 1+step, step)\n",
    "values = {}\n",
    "for i in threshold:\n",
    "    values[i] = {'snst': [], 'spcf': [], 'accr': []}\n",
    "\n",
    "with torch.no_grad():\n",
    "    for input, labels in test_loader:\n",
    "        outputs = model(input)\n",
    "        for t in threshold:\n",
    "            predicted = (outputs>t).float()\n",
    "            tn, fp, fn, tp = confusion_matrix(predicted, labels, labels=[0, 1] ).ravel()\n",
    "            if tp+tn == 0:\n",
    "                values[t]['snst'].append(0)\n",
    "            else:\n",
    "                values[t]['snst'].append((tp/(tp+fn))*100)\n",
    "            if tp+tn == 0:\n",
    "                values[t]['spcf'].append(0)\n",
    "            else:\n",
    "                values[t]['spcf'].append((tn/(fp+tn))*100)\n",
    "            values[t]['accr'].append(((tp+tn)/(tn+fp+fn+tp))*100)\n",
    "\n",
    "    sensitivity = []\n",
    "    specificity = []\n",
    "    accuracy = []\n",
    "    for _,v in values.items():\n",
    "        sensitivity.append(sum(v['snst'])/len(v['snst']))\n",
    "        specificity.append(sum(v['spcf'])/len(v['spcf']))\n",
    "        accuracy.append(sum(v['accr'])/len(v['accr']))\n",
    "\n",
    "plt.plot(threshold, sensitivity, label='sensitivity')\n",
    "plt.plot(threshold, accuracy, label='accuracy')\n",
    "plt.plot(threshold, specificity, label='specificity')\n",
    "plt.ylabel('Percentage')\n",
    "plt.xlabel('Confidence threshold')\n",
    "plt.legend()\n",
    "plt.show()"
   ]
  },
  {
   "attachments": {},
   "cell_type": "markdown",
   "metadata": {},
   "source": [
    "### Models Comparison"
   ]
  },
  {
   "cell_type": "code",
   "execution_count": 67,
   "metadata": {},
   "outputs": [],
   "source": [
    "input, output = iter(test_loader).next()"
   ]
  },
  {
   "cell_type": "code",
   "execution_count": 162,
   "metadata": {},
   "outputs": [
    {
     "data": {
      "text/plain": [
       "5"
      ]
     },
     "execution_count": 162,
     "metadata": {},
     "output_type": "execute_result"
    }
   ],
   "source": [
    "a = [1,2,3,4,5]\n",
    "a[-1]"
   ]
  },
  {
   "cell_type": "code",
   "execution_count": 84,
   "metadata": {},
   "outputs": [
    {
     "data": {
      "text/plain": [
       "torch.Size([1, 153])"
      ]
     },
     "execution_count": 84,
     "metadata": {},
     "output_type": "execute_result"
    }
   ],
   "source": [
    "i = X_test.values[0]\n",
    "torch.tensor(i.astype(np.float32)).unsqueeze(0).shape"
   ]
  },
  {
   "attachments": {},
   "cell_type": "markdown",
   "metadata": {},
   "source": [
    "get values model one by one"
   ]
  },
  {
   "cell_type": "code",
   "execution_count": 203,
   "metadata": {},
   "outputs": [],
   "source": [
    "ffnn_output = [0]\n",
    "knn_output = [0]\n",
    "rf_output = [0]\n",
    "svm_output = [0]\n",
    "model.eval()\n",
    "for input, target in zip(X_test.values, y_test.values):\n",
    "    outputs = model(torch.tensor(input.astype(np.float32)).unsqueeze(0))\n",
    "    expanded_data = np.expand_dims(input,axis=0)\n",
    "\n",
    "    ffnn_pred = int((outputs>0).item()) == target\n",
    "    knn_pred = knn.predict(expanded_data)[0] == target\n",
    "    rf_pred = rf.predict(expanded_data)[0] == target\n",
    "    svm_pred = svm.predict(expanded_data)[0] == target\n",
    "\n",
    "    if not all([ffnn_pred, knn_pred, rf_pred, svm_pred]):\n",
    "        if ffnn_pred:\n",
    "            ffnn_output.append(ffnn_output[-1])\n",
    "        else:\n",
    "            ffnn_output.append(ffnn_output[-1]+1)\n",
    "        if knn_pred:\n",
    "            knn_output.append(knn_output[-1])\n",
    "        else:\n",
    "            knn_output.append(knn_output[-1]+1)\n",
    "        if rf_pred:\n",
    "            rf_output.append(rf_output[-1])\n",
    "        else:\n",
    "            rf_output.append(rf_output[-1]+1)\n",
    "        if svm_pred:\n",
    "            svm_output.append(svm_output[-1])\n",
    "        else:\n",
    "            svm_output.append(svm_output[-1]+1)\n",
    "\n",
    "index = list(range(1,len(knn_output)+1))\n",
    "plt.plot(index, ffnn_output, label='ffnn_output')\n",
    "plt.plot(index, knn_output, label='knn_output')\n",
    "plt.plot(index, rf_output, label='rf_output')\n",
    "plt.plot(index, svm_output, label='svm_output')\n",
    "plt.xlabel('Number of missed targets')\n",
    "plt.ylabel('Number of errors')\n",
    "plt.legend()\n",
    "plt.show()"
   ]
  },
  {
   "cell_type": "code",
   "execution_count": 111,
   "metadata": {},
   "outputs": [
    {
     "data": {
      "text/plain": [
       "(929, 153)"
      ]
     },
     "execution_count": 111,
     "metadata": {},
     "output_type": "execute_result"
    }
   ],
   "source": [
    "X_test.to_numpy().shape"
   ]
  }
 ],
 "metadata": {
  "kernelspec": {
   "display_name": "mne",
   "language": "python",
   "name": "python3"
  },
  "language_info": {
   "codemirror_mode": {
    "name": "ipython",
    "version": 3
   },
   "file_extension": ".py",
   "mimetype": "text/x-python",
   "name": "python",
   "nbconvert_exporter": "python",
   "pygments_lexer": "ipython3",
   "version": "3.9.13"
  },
  "orig_nbformat": 4,
  "vscode": {
   "interpreter": {
    "hash": "7392615a69787cc1f6be4aa4f2da9b4eb392d95ed7f743e9910e69ce659e31ba"
   }
  }
 },
 "nbformat": 4,
 "nbformat_minor": 2
}
